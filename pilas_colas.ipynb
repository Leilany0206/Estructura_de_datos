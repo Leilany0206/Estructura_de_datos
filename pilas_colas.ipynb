{
  "nbformat": 4,
  "nbformat_minor": 0,
  "metadata": {
    "colab": {
      "provenance": []
    },
    "kernelspec": {
      "name": "python3",
      "display_name": "Python 3"
    },
    "language_info": {
      "name": "python"
    }
  },
  "cells": [
    {
      "cell_type": "markdown",
      "source": [
        "# **Pilas**\n"
      ],
      "metadata": {
        "id": "MkyRo14z0G9B"
      }
    },
    {
      "cell_type": "code",
      "source": [
        "class Pila:\n",
        "  def __init__(self):\n",
        "    self.items = []\n",
        "\n",
        "  def apilar(self, item):\n",
        "    if type(item) == str:\n",
        "      self.items.append(item)\n",
        "    else:\n",
        "      print(\"El elemento ingresado no es un string\")\n",
        "\n",
        "  def desapilar(self):\n",
        "    if self.contar() == 0:\n",
        "      print(\"La pila está vacia\")\n",
        "    else:\n",
        "      self.items.pop()\n",
        "\n",
        "  def contar(self):\n",
        "    return len(self.items)\n",
        "\n",
        "  def buscar(self, item):\n",
        "    if item in self.items:\n",
        "      print(f\"El elemento {item} se encuentra en la pila\")\n",
        "      return True\n",
        "    else:\n",
        "      print(f\"El elemento {item} no se encuentra en la pila\")\n",
        "      return False\n",
        "\n",
        "  def getUltimo(self):\n",
        "    if self.contar() == 0:\n",
        "      print(\"La pila está vacia\")\n",
        "    else:\n",
        "      return self.items[-1]\n",
        "\n",
        "  def getPrimero(self):\n",
        "    if self.contar() == 0:\n",
        "      print(\"La pila está vacia\")\n",
        "    else:\n",
        "      return self.items[0]\n",
        "\n",
        "  def getPila(self):\n",
        "    return self.items"
      ],
      "metadata": {
        "id": "nE7Wtj2iFNBi"
      },
      "execution_count": null,
      "outputs": []
    },
    {
      "cell_type": "markdown",
      "source": [
        "# **Colas**"
      ],
      "metadata": {
        "id": "BQuP-m4no-vi"
      }
    },
    {
      "cell_type": "code",
      "source": [
        "class Cola:\n",
        "  def __init__(self):\n",
        "    self.items = []\n",
        "\n",
        "  def agregar(self, item):\n",
        "    self.items.append(item)\n",
        "\n",
        "  def eliminar(self):\n",
        "    if self.contar() == 0:\n",
        "      print(\"La cola está vacia\")\n",
        "    else:\n",
        "      self.items.pop(0)\n",
        "\n",
        "  def contar(self):\n",
        "    x = len(self.items)\n",
        "    return x\n",
        "\n",
        "  def buscar(self, item):\n",
        "    if item in self.items:\n",
        "      print(f\"El elemento {item} se encuentra en la cola\")\n",
        "      return True\n",
        "    else:\n",
        "      print(f\"El elemento {item} no se encuentra en la cola\")\n",
        "      return False\n",
        "\n",
        "  def getUltimo(self):\n",
        "    if self.contar() == 0:\n",
        "      print(\"La cola está vacia\")\n",
        "    else:\n",
        "      return self.items[-1]\n",
        "\n",
        "  def getPrimero(self):\n",
        "    if self.contar() == 0:\n",
        "      print(\"La pila está vacia\")\n",
        "    else:\n",
        "      return self.items[0]\n",
        "\n",
        "  def getCola(self):\n",
        "    return self.items"
      ],
      "metadata": {
        "id": "Tt2eZgi2pEe5"
      },
      "execution_count": null,
      "outputs": []
    },
    {
      "cell_type": "markdown",
      "source": [
        "# **Problemas de aplicación**"
      ],
      "metadata": {
        "id": "Ib5L2xZIsqhy"
      }
    },
    {
      "cell_type": "markdown",
      "source": [
        "## **Collar**"
      ],
      "metadata": {
        "id": "aE5G7i8pJg4-"
      }
    },
    {
      "cell_type": "markdown",
      "source": [
        "Una persona está haciendo un collar de perlas de colores, quiere hacerlo en el orden del arcoiris (Rojo, Naranja, Amarillo, Verde, Azul, Índigo y Violeta) junto a una cuenta blanca. Para no equivocarse, ordena los colores en una **cola** antes que insertarlos en el hilo."
      ],
      "metadata": {
        "id": "KB9ZqPBNs4nZ"
      }
    },
    {
      "cell_type": "code",
      "source": [
        "def collar_cola():\n",
        "  global cuentas\n",
        "  cuentas = Cola()\n",
        "\n",
        "  for i in range(4):\n",
        "    cuentas.agregar(\"Rojo\")\n",
        "    cuentas.agregar(\"Naranja\")\n",
        "    cuentas.agregar(\"Amarillo\")\n",
        "    cuentas.agregar(\"Verde\")\n",
        "    cuentas.agregar(\"Azul\")\n",
        "    cuentas.agregar(\"Índigo\")\n",
        "    cuentas.agregar(\"Violeta\")\n",
        "    cuentas.agregar(\"Blanco\")\n",
        "\n",
        "collar_cola()\n",
        "\n",
        "print(f\"El collar tiene {cuentas.contar()} cuentas y está ordenado de la siguiente manera {cuentas.getCola()}\")"
      ],
      "metadata": {
        "colab": {
          "base_uri": "https://localhost:8080/"
        },
        "id": "IYUQCaTf2Kw2",
        "outputId": "4bea8dbc-b7bc-425a-f046-41b13500e196"
      },
      "execution_count": null,
      "outputs": [
        {
          "output_type": "stream",
          "name": "stdout",
          "text": [
            "El collar tiene 32 cuentas y está ordenado de la siguiente manera ['Rojo', 'Naranja', 'Amarillo', 'Verde', 'Azul', 'Índigo', 'Violeta', 'Blanco', 'Rojo', 'Naranja', 'Amarillo', 'Verde', 'Azul', 'Índigo', 'Violeta', 'Blanco', 'Rojo', 'Naranja', 'Amarillo', 'Verde', 'Azul', 'Índigo', 'Violeta', 'Blanco', 'Rojo', 'Naranja', 'Amarillo', 'Verde', 'Azul', 'Índigo', 'Violeta', 'Blanco']\n"
          ]
        }
      ]
    },
    {
      "cell_type": "markdown",
      "source": [
        "La persona pone finalmente las cuentas en el hilo, sin embargo al ponerlo en su cuello nota que se vería mejor con un dije en medio y sin la última cuenta blanca. Ahora tiene que sacar las cuentas en orden y hacer ese cambio."
      ],
      "metadata": {
        "id": "PXuzDXLEAOi2"
      }
    },
    {
      "cell_type": "code",
      "source": [
        "def collar_pila():\n",
        "  global collar\n",
        "  collar = Pila()\n",
        "\n",
        "  for i in range(cuentas.contar()):\n",
        "    collar.apilar(cuentas.getCola()[i])\n",
        "\n",
        "  collar.desapilar()\n",
        "\n",
        "collar_pila()"
      ],
      "metadata": {
        "id": "1jLW0gGuCB0c"
      },
      "execution_count": null,
      "outputs": []
    },
    {
      "cell_type": "code",
      "source": [
        "print(f\"El collar tiene {collar.contar()} cuentas y está ordenado de la siguiente manera {collar.getPila()}\")"
      ],
      "metadata": {
        "colab": {
          "base_uri": "https://localhost:8080/"
        },
        "id": "9e3UmTCmCT7U",
        "outputId": "43a8793f-e82f-4474-e14d-b19a7970318c"
      },
      "execution_count": null,
      "outputs": [
        {
          "output_type": "stream",
          "name": "stdout",
          "text": [
            "El collar tiene 31 cuentas y está ordenado de la siguiente manera ['Rojo', 'Naranja', 'Amarillo', 'Verde', 'Azul', 'Índigo', 'Violeta', 'Blanco', 'Rojo', 'Naranja', 'Amarillo', 'Verde', 'Azul', 'Índigo', 'Violeta', 'Blanco', 'Rojo', 'Naranja', 'Amarillo', 'Verde', 'Azul', 'Índigo', 'Violeta', 'Blanco', 'Rojo', 'Naranja', 'Amarillo', 'Verde', 'Azul', 'Índigo', 'Violeta']\n"
          ]
        }
      ]
    },
    {
      "cell_type": "code",
      "source": [
        "pilaAux = Pila()\n",
        "\n",
        "for i in range((collar.contar()//2)):\n",
        "  x = collar.getUltimo()\n",
        "  collar.desapilar()\n",
        "\n",
        "  pilaAux.apilar(x)\n",
        "\n",
        "print(f\"El collar tiene {collar.contar()} cuentas y está ordenado de la siguiente manera {collar.getPila()}\")\n",
        "print(pilaAux.getPila())"
      ],
      "metadata": {
        "colab": {
          "base_uri": "https://localhost:8080/"
        },
        "id": "E8T-uZc5CyL5",
        "outputId": "ad40e8d8-64a9-4187-9f8d-43ea2b4e89fb"
      },
      "execution_count": null,
      "outputs": [
        {
          "output_type": "stream",
          "name": "stdout",
          "text": [
            "El collar tiene 16 cuentas y está ordenado de la siguiente manera ['Rojo', 'Naranja', 'Amarillo', 'Verde', 'Azul', 'Índigo', 'Violeta', 'Blanco', 'Rojo', 'Naranja', 'Amarillo', 'Verde', 'Azul', 'Índigo', 'Violeta', 'Blanco']\n",
            "['Violeta', 'Índigo', 'Azul', 'Verde', 'Amarillo', 'Naranja', 'Rojo', 'Blanco', 'Violeta', 'Índigo', 'Azul', 'Verde', 'Amarillo', 'Naranja', 'Rojo']\n"
          ]
        }
      ]
    },
    {
      "cell_type": "code",
      "source": [
        "collar.apilar(\"Dije dorado\")\n",
        "collar.apilar(\"Blanco\")\n",
        "\n",
        "for i in range(pilaAux.contar()):\n",
        "  x = pilaAux.getUltimo()\n",
        "  pilaAux.desapilar()\n",
        "  collar.apilar(x)\n",
        "\n",
        "print(f\"El collar tiene {collar.contar()} cuentas y está ordenado de la siguiente manera {collar.getPila()}\")"
      ],
      "metadata": {
        "colab": {
          "base_uri": "https://localhost:8080/"
        },
        "id": "nZjynEonF_CF",
        "outputId": "a18656e0-7566-4ec6-ac82-b515524ab588"
      },
      "execution_count": null,
      "outputs": [
        {
          "output_type": "stream",
          "name": "stdout",
          "text": [
            "El collar tiene 33 cuentas y está ordenado de la siguiente manera ['Rojo', 'Naranja', 'Amarillo', 'Verde', 'Azul', 'Índigo', 'Violeta', 'Blanco', 'Rojo', 'Naranja', 'Amarillo', 'Verde', 'Azul', 'Índigo', 'Violeta', 'Blanco', 'Dije dorado', 'Blanco', 'Rojo', 'Naranja', 'Amarillo', 'Verde', 'Azul', 'Índigo', 'Violeta', 'Blanco', 'Rojo', 'Naranja', 'Amarillo', 'Verde', 'Azul', 'Índigo', 'Violeta']\n"
          ]
        }
      ]
    },
    {
      "cell_type": "markdown",
      "source": [
        "## **Impresora**"
      ],
      "metadata": {
        "id": "m8Q8kQq3L0Nx"
      }
    },
    {
      "cell_type": "markdown",
      "source": [
        "Una persona quiere imprimir diversos documentos en su trabajo, comienza imprimiendo los avisos del día, algunos contratos, nóminas y facturas. Sin embargo durante este proceso, alguien renuncia y ahora tiene que adelantar imprimir su renuncia lo antes posible. La impresora usa una estructura de cola."
      ],
      "metadata": {
        "id": "KHyUedF_MzbI"
      }
    },
    {
      "cell_type": "code",
      "source": [
        "def impresora_cola():\n",
        "  global documentos\n",
        "  documentos = Cola()\n",
        "\n",
        "  documentos.agregar(\"Avisos del día\")\n",
        "  documentos.agregar(\"Contrato proveedor de alimentos\")\n",
        "  documentos.agregar(\"Factura electricidad\")\n",
        "  documentos.agregar(\"Contrato proveedor de suministros\")\n",
        "  documentos.agregar(\"Factura internet\")\n",
        "  documentos.agregar(\"Factura muebles\")\n",
        "  documentos.agregar(\"Nómina gerente\")\n",
        "\n",
        "impresora_cola()\n",
        "\n",
        "print(f\"La impresora tiene {documentos.contar()} documentos y está ordenado de la siguiente manera {documentos.getCola()}\")"
      ],
      "metadata": {
        "colab": {
          "base_uri": "https://localhost:8080/"
        },
        "id": "U8Xg5c2bPNm-",
        "outputId": "a0f0453f-2572-49db-b2bf-05c0adc5ef3b"
      },
      "execution_count": null,
      "outputs": [
        {
          "output_type": "stream",
          "name": "stdout",
          "text": [
            "La impresora tiene 7 documentos y está ordenado de la siguiente manera ['Avisos del día', 'Contrato proveedor de alimentos', 'Factura electricidad', 'Contrato proveedor de suministros', 'Factura internet', 'Factura muebles', 'Nómina gerente']\n"
          ]
        }
      ]
    },
    {
      "cell_type": "code",
      "source": [
        "documentos.eliminar() #Se terminó de imprimir el primer documento\n",
        "\n",
        "pausado = Cola()\n",
        "\n",
        "for i in range(documentos.contar()):\n",
        "  pausado.agregar(documentos.getPrimero())\n",
        "  documentos.eliminar()\n",
        "\n",
        "print(f\"La impresora tiene {documentos.contar()} documentos y está ordenado de la siguiente manera {documentos.getCola()}\")"
      ],
      "metadata": {
        "colab": {
          "base_uri": "https://localhost:8080/"
        },
        "id": "FIjOEKoJSLlP",
        "outputId": "d738fdfb-64d8-48eb-87cb-23d600293edb"
      },
      "execution_count": null,
      "outputs": [
        {
          "output_type": "stream",
          "name": "stdout",
          "text": [
            "La impresora tiene 0 documentos y está ordenado de la siguiente manera []\n"
          ]
        }
      ]
    },
    {
      "cell_type": "code",
      "source": [
        "documentos.agregar(\"Renuncia\")\n",
        "\n",
        "for i in range(pausado.contar()):\n",
        "  documentos.agregar(pausado.getPrimero())\n",
        "  pausado.eliminar()\n",
        "\n",
        "print(f\"La impresora tiene {documentos.contar()} documentos y está ordenado de la siguiente manera {documentos.getCola()}\")\n"
      ],
      "metadata": {
        "colab": {
          "base_uri": "https://localhost:8080/"
        },
        "id": "0gR1X0qeVr3o",
        "outputId": "4858596b-c25a-4310-8c38-822abd126407"
      },
      "execution_count": null,
      "outputs": [
        {
          "output_type": "stream",
          "name": "stdout",
          "text": [
            "La impresora tiene 7 documentos y está ordenado de la siguiente manera ['Renuncia', 'Contrato proveedor de alimentos', 'Factura electricidad', 'Contrato proveedor de suministros', 'Factura internet', 'Factura muebles', 'Nómina gerente']\n"
          ]
        }
      ]
    }
  ]
}